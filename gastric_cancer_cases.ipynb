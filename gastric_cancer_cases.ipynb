{
 "cells": [
  {
   "cell_type": "code",
   "execution_count": 1,
   "metadata": {},
   "outputs": [],
   "source": [
    "import tarfile\n",
    "import pandas as pd\n",
    "import os\n",
    "from collections import defaultdict\n"
   ]
  },
  {
   "cell_type": "markdown",
   "metadata": {},
   "source": [
    "## Load parquet files and concatenate into dfs"
   ]
  },
  {
   "cell_type": "code",
   "execution_count": 2,
   "metadata": {},
   "outputs": [
    {
     "name": "stdout",
     "output_type": "stream",
     "text": [
      "Concept Table Shape: (7384149, 10)\n",
      "Concept Ancestor Table Shape: (81794858, 4)\n",
      "Condition Occurrence Table Shape: (49485547, 16)\n",
      "Person Table Shape: (1403123, 18)\n"
     ]
    }
   ],
   "source": [
    "import tarfile\n",
    "import pandas as pd\n",
    "\n",
    "tar_path = 'R:\\Kevin\\Projects\\LLM\\pdac_tf\\omop_gpt_database_ohdsi_cumc_deid_2023q4r2_snapshot5_top_p900_temp_1060_repetition_penalty_1060.tar'\n",
    "\n",
    "# Initialize DataFrames for concept and concept_ancestor tables\n",
    "concept_df = None\n",
    "concept_ancestor_df = None\n",
    "condition_occurrence_df = None\n",
    "person_df = None\n",
    "\n",
    "# Open the tar file and load the Parquet files for specific categories\n",
    "with tarfile.open(tar_path, 'r') as tar:\n",
    "    for member in tar.getmembers():\n",
    "        # Check if the file is a Parquet file in the required categories\n",
    "        if member.name.endswith(\".parquet\"):\n",
    "            with tar.extractfile(member) as f:\n",
    "                df = pd.read_parquet(f)\n",
    "                \n",
    "                # Identify and load the appropriate table\n",
    "                if '/concept_ancestor/' in member.name:\n",
    "                    concept_ancestor_df = pd.concat([concept_ancestor_df, df], ignore_index=True) if concept_ancestor_df is not None else df\n",
    "                elif '/concept/' in member.name:\n",
    "                    concept_df = pd.concat([concept_df, df], ignore_index=True) if concept_df is not None else df\n",
    "                elif '/condition_occurrence/' in member.name:\n",
    "                    condition_occurrence_df = pd.concat([condition_occurrence_df, df], ignore_index=True) if condition_occurrence_df is not None else df\n",
    "                elif '/person/' in member.name:\n",
    "                    person_df = pd.concat([person_df, df], ignore_index=True) if person_df is not None else df\n",
    "\n",
    "# Verify loading\n",
    "print(\"Concept Table Shape:\", concept_df.shape)\n",
    "print(\"Concept Ancestor Table Shape:\", concept_ancestor_df.shape)\n",
    "print(\"Condition Occurrence Table Shape:\", condition_occurrence_df.shape)\n",
    "print(\"Person Table Shape:\", person_df.shape)\n"
   ]
  },
  {
   "cell_type": "code",
   "execution_count": 38,
   "metadata": {},
   "outputs": [
    {
     "name": "stdout",
     "output_type": "stream",
     "text": [
      "Resulting case_gastric_cancer DataFrame:\n"
     ]
    },
    {
     "data": {
      "text/plain": [
       "(1644, 3)"
      ]
     },
     "execution_count": 38,
     "metadata": {},
     "output_type": "execute_result"
    }
   ],
   "source": [
    "# Gastric Cancer Concept from ALLOfUs\n",
    "gastric_cancer_ids = [443387]\n",
    "concept_df['concept_id'] = concept_df['concept_id'].astype(int)\n",
    "concept_ancestor_df['ancestor_concept_id'] = concept_ancestor_df['ancestor_concept_id'].astype(int)\n",
    "\n",
    "# Step 2: Filter the 'concept' table for the gastric cancer IDs\n",
    "filtered_concept_df = concept_df[concept_df['concept_id'].isin(gastric_cancer_ids)]\n",
    "\n",
    "# Step 2.1: Join 'filtered_concept_df' with 'concept_ancestor' on 'concept_id' and 'ancestor_concept_id'\n",
    "# to get descendant concept IDs for the target ancestors\n",
    "filtered_concept_ancestor_df = concept_ancestor_df.merge(\n",
    "    filtered_concept_df,\n",
    "    left_on='ancestor_concept_id',\n",
    "    right_on='concept_id',\n",
    "    how='inner'\n",
    ")\n",
    "\n",
    "# Step 2.2: Extract unique descendant concept IDs from the joined table\n",
    "descendant_concepts = filtered_concept_ancestor_df['descendant_concept_id'].unique()\n",
    "\n",
    "# Step 3: Ensure 'condition_concept_id' in 'condition_occurrence_df' is an integer\n",
    "condition_occurrence_df['condition_concept_id'] = condition_occurrence_df['condition_concept_id'].astype(int)\n",
    "\n",
    "# Step 3.1: Filter the 'condition_occurrence' table where 'condition_concept_id' matches any of the descendant concepts\n",
    "filtered_condition_occurrence_df = condition_occurrence_df[\n",
    "    condition_occurrence_df['condition_concept_id'].isin(descendant_concepts)\n",
    "]\n",
    "\n",
    "# Step 4: Select the required columns: 'person_id', 'condition_concept_id', 'condition_start_datetime'\n",
    "case_gastric_cancer = filtered_condition_occurrence_df[\n",
    "    ['person_id', 'condition_concept_id', 'condition_start_datetime']\n",
    "]\n",
    "\n",
    "# Display the result\n",
    "print(\"Resulting case_gastric_cancer DataFrame:\")\n",
    "\n",
    "# Drop duplicate rows based on `person_id`, keeping the first occurrence\n",
    "case_gastric_cancer = case_gastric_cancer.drop_duplicates(subset=['person_id'])\n",
    "case_gastric_cancer.shape\n"
   ]
  },
  {
   "cell_type": "code",
   "execution_count": 43,
   "metadata": {},
   "outputs": [
    {
     "name": "stdout",
     "output_type": "stream",
     "text": [
      "First 5 Patients with Mapped Diagnoses and Demographics:\n",
      "{10001588: {'demographics': {'birth_datetime': '1942-01-01T00:00:00',\n",
      "                             'ethnicity': 'No matching concept',\n",
      "                             'gender': 'MALE',\n",
      "                             'race': 'No matching concept'},\n",
      "            'diagnoses': ['Primary malignant neoplasm of stomach'],\n",
      "            'timestamps': ['2002-05-29T00:00:00']},\n",
      " 10001719: {'demographics': {'birth_datetime': '1946-01-01T00:00:00',\n",
      "                             'ethnicity': 'No matching concept',\n",
      "                             'gender': 'FEMALE',\n",
      "                             'race': 'No matching concept'},\n",
      "            'diagnoses': ['Primary malignant neoplasm of stomach'],\n",
      "            'timestamps': ['2017-03-31T00:00:00']},\n",
      " 10003951: {'demographics': {'birth_datetime': '1943-01-01T00:00:00',\n",
      "                             'ethnicity': 'No matching concept',\n",
      "                             'gender': 'FEMALE',\n",
      "                             'race': 'Unknown'},\n",
      "            'diagnoses': ['Primary malignant neoplasm of pyloric antrum'],\n",
      "            'timestamps': ['1993-01-26T00:00:00']},\n",
      " 10004979: {'demographics': {'birth_datetime': '1924-01-01T00:00:00',\n",
      "                             'ethnicity': 'No matching concept',\n",
      "                             'gender': 'FEMALE',\n",
      "                             'race': 'No matching concept'},\n",
      "            'diagnoses': ['Primary malignant neoplasm of stomach'],\n",
      "            'timestamps': ['2016-01-01T00:00:00']},\n",
      " 10005007: {'demographics': {'birth_datetime': '1939-01-01T00:00:00',\n",
      "                             'ethnicity': 'No matching concept',\n",
      "                             'gender': 'FEMALE',\n",
      "                             'race': 'No matching concept'},\n",
      "            'diagnoses': ['Primary malignant neoplasm of stomach'],\n",
      "            'timestamps': ['2010-01-01T00:00:00']}}\n"
     ]
    }
   ],
   "source": [
    "# Step 1: Prepare the datasets\n",
    "person_df['person_id'] = person_df['person_id'].astype(int)\n",
    "case_gastric_cancer['person_id'] = case_gastric_cancer['person_id'].astype(int)\n",
    "\n",
    "# Merge demographics with the condition occurrence data\n",
    "merged_df = case_gastric_cancer.merge(person_df, on='person_id', how='inner')\n",
    "\n",
    "# Step 2: Create the dictionary\n",
    "patient_data = {}\n",
    "\n",
    "for pat_id, group in merged_df.groupby('person_id'):\n",
    "    # Extract demographic information for the patient\n",
    "    demographics = group.iloc[0][['gender_concept_id', 'birth_datetime', 'race_concept_id', 'ethnicity_concept_id']].to_dict()\n",
    "    \n",
    "    # Extract sequence of diagnosis codes and timestamps\n",
    "    diagnoses = group['condition_concept_id'].tolist()\n",
    "    timestamps = group['condition_start_datetime'].tolist()\n",
    "    \n",
    "    # Construct the dictionary entry\n",
    "    patient_data[pat_id] = {\n",
    "        'demographics': demographics,\n",
    "        'diagnoses': diagnoses,\n",
    "        'timestamps': timestamps,\n",
    "    }\n",
    "\n",
    "# Step 3: Use `concept_df` to map concept IDs to names\n",
    "# Ensure `concept_id` in `concept_df` is of the same type as the IDs in `patient_data`\n",
    "concept_df['concept_id'] = concept_df['concept_id'].astype(str)  # Ensure consistent types\n",
    "concept_mapping = concept_df.set_index('concept_id')['concept_name'].to_dict()\n",
    "\n",
    "# Map demographic IDs and diagnoses in the `patient_data`\n",
    "for pat_id, data in patient_data.items():\n",
    "    demographics = data['demographics']\n",
    "    # Map demographics\n",
    "    demographics['gender'] = concept_mapping.get(str(demographics.pop('gender_concept_id')), 'Unknown')\n",
    "    demographics['race'] = concept_mapping.get(str(demographics.pop('race_concept_id')), 'Unknown')\n",
    "    demographics['ethnicity'] = concept_mapping.get(str(demographics.pop('ethnicity_concept_id')), 'Unknown')\n",
    "    # Map diagnoses\n",
    "    data['diagnoses'] = [concept_mapping.get(str(diagnosis), 'Unknown') for diagnosis in data['diagnoses']]\n",
    "\n",
    "# Step 4: Display the first 5 patients\n",
    "import pprint\n",
    "\n",
    "# Extract and display the first 5 patients\n",
    "first_5_patients = {pat_id: patient_data[pat_id] for pat_id in list(patient_data.keys())[:5]}\n",
    "\n",
    "# Pretty print the first 5 patients\n",
    "print(\"First 5 Patients with Mapped Diagnoses and Demographics:\")\n",
    "pprint.pprint(first_5_patients)\n"
   ]
  },
  {
   "cell_type": "code",
   "execution_count": 44,
   "metadata": {},
   "outputs": [
    {
     "data": {
      "text/plain": [
       "1644"
      ]
     },
     "execution_count": 44,
     "metadata": {},
     "output_type": "execute_result"
    }
   ],
   "source": [
    "len(patient_data)"
   ]
  },
  {
   "cell_type": "code",
   "execution_count": 45,
   "metadata": {},
   "outputs": [
    {
     "name": "stdout",
     "output_type": "stream",
     "text": [
      "Patient data has been saved to gastric_patient_data.pkl\n"
     ]
    }
   ],
   "source": [
    "import pickle\n",
    "\n",
    "# Specify the file path to save the pickle\n",
    "pickle_file_path = \"gastric_patient_data.pkl\"\n",
    "\n",
    "# Save the dictionary as a pickle file\n",
    "with open(pickle_file_path, \"wb\") as pickle_file:\n",
    "    pickle.dump(patient_data, pickle_file)\n",
    "\n",
    "print(f\"Patient data has been saved to {pickle_file_path}\")\n"
   ]
  }
 ],
 "metadata": {
  "kernelspec": {
   "display_name": "kevin_env",
   "language": "python",
   "name": "python3"
  },
  "language_info": {
   "codemirror_mode": {
    "name": "ipython",
    "version": 3
   },
   "file_extension": ".py",
   "mimetype": "text/x-python",
   "name": "python",
   "nbconvert_exporter": "python",
   "pygments_lexer": "ipython3",
   "version": "3.10.15"
  }
 },
 "nbformat": 4,
 "nbformat_minor": 2
}
