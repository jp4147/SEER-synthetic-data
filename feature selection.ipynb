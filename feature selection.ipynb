{
 "cells": [
  {
   "cell_type": "code",
   "execution_count": 7,
   "metadata": {},
   "outputs": [],
   "source": [
    "import pandas as pd\n",
    "from collections import Counter"
   ]
  },
  {
   "cell_type": "code",
   "execution_count": null,
   "metadata": {},
   "outputs": [],
   "source": [
    "data = pd.read_excel('Gastric_Caselistings_kevin.xlsx')"
   ]
  },
  {
   "cell_type": "code",
   "execution_count": 2,
   "metadata": {},
   "outputs": [
    {
     "data": {
      "text/plain": [
       "140110"
      ]
     },
     "execution_count": 2,
     "metadata": {},
     "output_type": "execute_result"
    }
   ],
   "source": [
    "len(data)"
   ]
  },
  {
   "cell_type": "code",
   "execution_count": 3,
   "metadata": {},
   "outputs": [
    {
     "data": {
      "text/plain": [
       "138592"
      ]
     },
     "execution_count": 3,
     "metadata": {},
     "output_type": "execute_result"
    }
   ],
   "source": [
    "len(data['Patient ID'].unique())"
   ]
  },
  {
   "cell_type": "code",
   "execution_count": 4,
   "metadata": {},
   "outputs": [
    {
     "data": {
      "text/plain": [
       "2934"
      ]
     },
     "execution_count": 4,
     "metadata": {},
     "output_type": "execute_result"
    }
   ],
   "source": [
    "duplicate_ids = data[data['Patient ID'].duplicated(keep=False)]\n",
    "len(duplicate_ids)"
   ]
  },
  {
   "cell_type": "code",
   "execution_count": 5,
   "metadata": {},
   "outputs": [
    {
     "data": {
      "text/plain": [
       "63"
      ]
     },
     "execution_count": 5,
     "metadata": {},
     "output_type": "execute_result"
    }
   ],
   "source": [
    "len(data.columns)"
   ]
  },
  {
   "cell_type": "code",
   "execution_count": 6,
   "metadata": {},
   "outputs": [
    {
     "data": {
      "text/plain": [
       "'EOD Mets (2018+)'"
      ]
     },
     "execution_count": 6,
     "metadata": {},
     "output_type": "execute_result"
    }
   ],
   "source": [
    "i=62\n",
    "list(data.columns)[i]"
   ]
  },
  {
   "cell_type": "code",
   "execution_count": 8,
   "metadata": {},
   "outputs": [
    {
     "data": {
      "text/plain": [
       "Counter({'Blank(s)': 111874,\n",
       "         0: 18690,\n",
       "         70: 8098,\n",
       "         10: 1053,\n",
       "         99: 356,\n",
       "         50: 21,\n",
       "         20: 9,\n",
       "         30: 9})"
      ]
     },
     "execution_count": 8,
     "metadata": {},
     "output_type": "execute_result"
    }
   ],
   "source": [
    "Counter(data[list(data.columns)[i]])"
   ]
  },
  {
   "cell_type": "code",
   "execution_count": 20,
   "metadata": {},
   "outputs": [
    {
     "data": {
      "text/plain": [
       "Counter({'Blank(s)': 117031, 'Recode scheme not yet available': 23079})"
      ]
     },
     "execution_count": 20,
     "metadata": {},
     "output_type": "execute_result"
    }
   ],
   "source": [
    "Counter(data['T value - based on AJCC 3rd (1988-2003)'])"
   ]
  },
  {
   "cell_type": "markdown",
   "metadata": {},
   "source": [
    "# clean data"
   ]
  },
  {
   "cell_type": "code",
   "execution_count": 12,
   "metadata": {},
   "outputs": [],
   "source": [
    "lst = list(data.columns)\n",
    "lst.remove('Race recode (White, Black, Other)')\n",
    "lst.remove('Race and origin (recommended by SEER)')\n",
    "lst.remove('Origin recode NHIA (Hispanic, Non-Hisp)')\n",
    "lst.remove('Survival months flag')\n",
    "lst.remove('Site recode ICD-O-3/WHO 2008')\n",
    "lst.remove('SEER modified AJCC stage 3rd (1988-2003)')\n",
    "lst.remove('T value - based on AJCC 3rd (1988-2003)')\n",
    "lst.remove('N value - based on AJCC 3rd (1988-2003)')\n",
    "lst.remove('M value - based on AJCC 3rd (1988-2003)')\n",
    "lst.remove('CA-125 Pretreatment Interpretation Recode (2010+)')\n"
   ]
  },
  {
   "cell_type": "code",
   "execution_count": 13,
   "metadata": {},
   "outputs": [
    {
     "data": {
      "text/plain": [
       "53"
      ]
     },
     "execution_count": 13,
     "metadata": {},
     "output_type": "execute_result"
    }
   ],
   "source": [
    "len(lst)"
   ]
  },
  {
   "cell_type": "code",
   "execution_count": 19,
   "metadata": {},
   "outputs": [],
   "source": [
    "demographics = ['Patient ID',\n",
    "                'Sex',\n",
    "                'Race and origin recode (NHW, NHB, NHAIAN, NHAPI, Hispanic)',\n",
    "                'Race recode (W, B, AI, API)',\n",
    "                'Age recode with single ages and 85+',\n",
    "                'Rural-Urban Continuum Code',\n",
    "                'Median household income inflation adj to 2022',\n",
    "                'Marital status at diagnosis'\n",
    "                ]\n",
    "outcome_info = ['Year of diagnosis',\n",
    "                'Survival months']\n",
    "cancer_info = ['Sequence number',\n",
    "               'Total number of in situ/malignant tumors for patient',\n",
    "              'Primary Site - labeled',\n",
    "              'Total number of benign/borderline tumors for patient',\n",
    "              'Behavior code ICD-O-3',\n",
    "              'ICD-O-3 Hist/behav'\n",
    "              ]\n",
    "treatment_info = ['Time from diagnosis to treatment in days recode',\n",
    "                  'Radiation recode',\n",
    "                  'RX Summ--Surg/Rad Seq',\n",
    "                  'Chemotherapy recode (yes, no/unk)'\n",
    "                  ]\n",
    "death_info = ['Year of death recode',\n",
    "              'SEER other cause of death classification',\n",
    "              'COD to site recode',\n",
    "              'Vital status recode (study cutoff used)',\n",
    "              'SEER cause-specific death classification'\n",
    "              ]\n",
    "stage_info = ['Summary stage 2000 (1998-2017)',\n",
    "              'Combined Summary Stage (2004+)',\n",
    "              'SEER Combined Summary Stage 2000 (2004-2017)',\n",
    "              'Mets at DX-Other (2016+)',\n",
    "              'EOD 10 - nodes (1988-2003)',\n",
    "              'EOD 10 - size (1988-2003)',\n",
    "              'EOD 10 - extent (1988-2003)',\n",
    "              'Tumor Size Summary (2016+)',\n",
    "              'CS tumor size (2004-2015)',\n",
    "              'EOD Primary Tumor (2018+)',\n",
    "              'EOD Regional Nodes (2018+)',\n",
    "              'EOD Mets (2018+)',\n",
    "              'CS lymph nodes (2004-2015)',\n",
    "              'CS mets at dx (2004-2015)',\n",
    "              'Mets at DX-Distant LN (2016+)'\n",
    "              ]\n",
    "surgery_info = ['RX Summ--Surg Prim Site (1998+)',\n",
    "                'RX Summ--Scope Reg LN Sur (2003+)',\n",
    "                'Reason no cancer-directed surgery'\n",
    "                ]\n",
    "clinical_untility = ['Year of follow-up recode',\n",
    "                     'Type of Reporting Source']\n",
    "unknown = ['Record number recode',\n",
    "           'First malignant primary indicator',\n",
    "           'Grade Clinical (2018+)',\n",
    "           'Grade Pathological (2018+)']\n",
    "remove = ['Derived SEER Combined T Src (2016-2017)',\n",
    "          'Derived SEER Combined N Src (2016-2017)',\n",
    "          'Derived AJCC M, 6th ed (2004-2015)',\n",
    "          'Derived AJCC Stage Group, 7th ed (2010-2015)']\n"
   ]
  },
  {
   "cell_type": "code",
   "execution_count": 16,
   "metadata": {},
   "outputs": [],
   "source": [
    "col = demographics+outcome_info+cancer_info+treatment_info+death_info+stage_info+surgery_info+clinical_untility+unknown+remove"
   ]
  },
  {
   "cell_type": "code",
   "execution_count": 18,
   "metadata": {},
   "outputs": [
    {
     "data": {
      "text/plain": [
       "Counter({'Year of diagnosis': 2,\n",
       "         'Patient ID': 1,\n",
       "         'Sex': 1,\n",
       "         'Race and origin recode (NHW, NHB, NHAIAN, NHAPI, Hispanic)': 1,\n",
       "         'Race recode (W, B, AI, API)': 1,\n",
       "         'Age recode with single ages and 85+': 1,\n",
       "         'Rural-Urban Continuum Code': 1,\n",
       "         'Median household income inflation adj to 2022': 1,\n",
       "         'Marital status at diagnosis': 1,\n",
       "         'Survival months': 1,\n",
       "         'Sequence number': 1,\n",
       "         'Total number of in situ/malignant tumors for patient': 1,\n",
       "         'Primary Site - labeled': 1,\n",
       "         'Total number of benign/borderline tumors for patient': 1,\n",
       "         'Behavior code ICD-O-3': 1,\n",
       "         'ICD-O-3 Hist/behav': 1,\n",
       "         'Time from diagnosis to treatment in days recode': 1,\n",
       "         'Radiation recode': 1,\n",
       "         'RX Summ--Surg/Rad Seq': 1,\n",
       "         'Chemotherapy recode (yes, no/unk)': 1,\n",
       "         'Year of death recode': 1,\n",
       "         'SEER other cause of death classification': 1,\n",
       "         'COD to site recode': 1,\n",
       "         'Vital status recode (study cutoff used)': 1,\n",
       "         'SEER cause-specific death classification': 1,\n",
       "         'Summary stage 2000 (1998-2017)': 1,\n",
       "         'Combined Summary Stage (2004+)': 1,\n",
       "         'SEER Combined Summary Stage 2000 (2004-2017)': 1,\n",
       "         'Mets at DX-Other (2016+)': 1,\n",
       "         'EOD 10 - nodes (1988-2003)': 1,\n",
       "         'EOD 10 - size (1988-2003)': 1,\n",
       "         'EOD 10 - extent (1988-2003)': 1,\n",
       "         'Tumor Size Summary (2016+)': 1,\n",
       "         'CS tumor size (2004-2015)': 1,\n",
       "         'EOD Primary Tumor (2018+)': 1,\n",
       "         'EOD Regional Nodes (2018+)': 1,\n",
       "         'EOD Mets (2018+)': 1,\n",
       "         'CS lymph nodes (2004-2015)': 1,\n",
       "         'CS mets at dx (2004-2015)': 1,\n",
       "         'Mets at DX-Distant LN (2016+)': 1,\n",
       "         'RX Summ--Surg Prim Site (1998+)': 1,\n",
       "         'RX Summ--Scope Reg LN Sur (2003+)': 1,\n",
       "         'Reason no cancer-directed surgery': 1,\n",
       "         'Year of follow-up recode': 1,\n",
       "         'Type of Reporting Source': 1,\n",
       "         'Record number recode': 1,\n",
       "         'First malignant primary indicator': 1,\n",
       "         'Grade Clinical (2018+)': 1,\n",
       "         'Grade Pathological (2018+)': 1,\n",
       "         'Derived SEER Combined T Src (2016-2017)': 1,\n",
       "         'Derived SEER Combined N Src (2016-2017)': 1,\n",
       "         'Derived AJCC M, 6th ed (2004-2015)': 1,\n",
       "         'Derived AJCC Stage Group, 7th ed (2010-2015)': 1})"
      ]
     },
     "execution_count": 18,
     "metadata": {},
     "output_type": "execute_result"
    }
   ],
   "source": [
    "Counter(col)"
   ]
  },
  {
   "cell_type": "code",
   "execution_count": null,
   "metadata": {},
   "outputs": [],
   "source": []
  }
 ],
 "metadata": {
  "kernelspec": {
   "display_name": "py39",
   "language": "python",
   "name": "python3"
  },
  "language_info": {
   "codemirror_mode": {
    "name": "ipython",
    "version": 3
   },
   "file_extension": ".py",
   "mimetype": "text/x-python",
   "name": "python",
   "nbconvert_exporter": "python",
   "pygments_lexer": "ipython3",
   "version": "3.9.20"
  }
 },
 "nbformat": 4,
 "nbformat_minor": 2
}
